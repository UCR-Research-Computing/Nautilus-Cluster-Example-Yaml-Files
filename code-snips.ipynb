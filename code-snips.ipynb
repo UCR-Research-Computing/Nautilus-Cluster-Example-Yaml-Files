{
 "cells": [
  {
   "cell_type": "code",
   "execution_count": null,
   "metadata": {},
   "outputs": [],
   "source": [
    "import subprocess\n",
    "from subprocess import Popen, PIPE\n",
    "import time\n",
    "import os\n",
    "import sys\n",
    "import argparse\n"
   ]
  },
  {
   "cell_type": "markdown",
   "metadata": {},
   "source": [
    "Functions"
   ]
  },
  {
   "cell_type": "code",
   "execution_count": null,
   "metadata": {},
   "outputs": [],
   "source": [
    "def run_cmd(mycmd):\n",
    "    print(\"Running\" + mycmd)\n",
    "    cmd = mycmd\n",
    "    out = subprocess.check_output(cmd, shell=True)\n",
    "    print(out)"
   ]
  },
  {
   "cell_type": "code",
   "execution_count": null,
   "metadata": {},
   "outputs": [],
   "source": [
    "def magic_run(cmd):\n",
    "    !$cmd"
   ]
  },
  {
   "cell_type": "code",
   "execution_count": null,
   "metadata": {},
   "outputs": [],
   "source": [
    "def delete_all_pods():\n",
    "    cmd = \"kubectl delete pod --all\"\n",
    "    !$cmd"
   ]
  },
  {
   "cell_type": "code",
   "execution_count": null,
   "metadata": {},
   "outputs": [],
   "source": [
    "def delete_all_jobs():\n",
    "    cmd = \"kubectl delete job --all\"\n",
    "    !$cmd"
   ]
  },
  {
   "cell_type": "code",
   "execution_count": null,
   "metadata": {},
   "outputs": [],
   "source": [
    "def launch_yaml(yamlfile):\n",
    "    cmd = \"kubectl create -f %s\" % (yamlfile)\n",
    "    !$cmd"
   ]
  },
  {
   "cell_type": "markdown",
   "metadata": {},
   "source": [
    "function calls"
   ]
  },
  {
   "cell_type": "code",
   "execution_count": null,
   "metadata": {},
   "outputs": [],
   "source": [
    "run_cmd(\"kubectl get pod\")"
   ]
  },
  {
   "cell_type": "code",
   "execution_count": 117,
   "metadata": {},
   "outputs": [
    {
     "name": "stdout",
     "output_type": "stream",
     "text": [
      "No resources found in ucr-rc namespace.\n"
     ]
    }
   ],
   "source": [
    "magic_run(\"kubectl get job\")"
   ]
  },
  {
   "cell_type": "code",
   "execution_count": 119,
   "metadata": {},
   "outputs": [
    {
     "name": "stdout",
     "output_type": "stream",
     "text": [
      "job.batch \"cent\" deleted\n"
     ]
    }
   ],
   "source": [
    "delete_all_jobs()"
   ]
  },
  {
   "cell_type": "code",
   "execution_count": null,
   "metadata": {},
   "outputs": [],
   "source": [
    "delete_all_pods()"
   ]
  },
  {
   "cell_type": "markdown",
   "metadata": {},
   "source": [
    "Misc"
   ]
  },
  {
   "cell_type": "code",
   "execution_count": null,
   "metadata": {},
   "outputs": [],
   "source": [
    "# Get input from user\n",
    "a = input()\n",
    "print(a)"
   ]
  },
  {
   "cell_type": "code",
   "execution_count": null,
   "metadata": {},
   "outputs": [],
   "source": [
    "k8scmdout = !kubectl get pod\n",
    "print(k8scmdout)"
   ]
  },
  {
   "cell_type": "code",
   "execution_count": null,
   "metadata": {},
   "outputs": [],
   "source": [
    "for x in range(6):\n",
    "    magic_run(\"kubectl get pod\")\n"
   ]
  },
  {
   "cell_type": "code",
   "execution_count": null,
   "metadata": {},
   "outputs": [],
   "source": [
    "namedefault = \"cent\"\n",
    "imagedefault = \"centos:latest\"\n",
    "cmddefault = \"uptime\"\n",
    "\n",
    "\n",
    "cmd = \"./int.sh %s %s %s\" % (namedefault, cmddefault, imagedefault)\n",
    "\n",
    "!$cmd"
   ]
  },
  {
   "cell_type": "code",
   "execution_count": null,
   "metadata": {},
   "outputs": [],
   "source": [
    "yaml_file = input()\n",
    "launch_yaml(yaml_file)"
   ]
  },
  {
   "cell_type": "code",
   "execution_count": 123,
   "metadata": {},
   "outputs": [
    {
     "name": "stdout",
     "output_type": "stream",
     "text": [
      "job.batch/cent created\n",
      "cent-48slt\n",
      "Error from server (BadRequest): container \"thejobscontainer\" in pod \"cent-48slt\" is waiting to start: ContainerCreating\n",
      "job.batch \"cent\" deleted\n"
     ]
    }
   ],
   "source": [
    "job_name = \"cent\"\n",
    "container_command = \"ls -latr\"\n",
    "container_name = \"thejobscontainer\"\n",
    "container_image = \"centos:latest\"\n",
    "container__mem_limit = 4\n",
    "container__cpu_limit = 4\n",
    "container__mem_request = 1 \n",
    "container__cpu_request = 1\n",
    "\n",
    "\n",
    "cmd = \"\"\"cat <<EOF | kubectl apply -f -\n",
    "apiVersion: batch/v1\n",
    "kind: Job\n",
    "metadata:\n",
    "  name: %s\n",
    "spec:\n",
    "  template:\n",
    "    spec:\n",
    "      containers:\n",
    "      - name: %s\n",
    "        image: %s\n",
    "        command:\n",
    "        - sh\n",
    "        - -c\n",
    "        - \"%s\"\n",
    "        volumeMounts:\n",
    "        - mountPath: /sharedvol\n",
    "          name: sharedvol\n",
    "        resources:\n",
    "          limits:\n",
    "            memory: %dGi\n",
    "            cpu: \"%d\"\n",
    "          requests:\n",
    "            memory: %dGi\n",
    "            cpu: \"%d\"\n",
    "      volumes:\n",
    "      - name: sharedvol\n",
    "        persistentVolumeClaim:\n",
    "          claimName: master-vol\n",
    "      restartPolicy: Never\n",
    "  backoffLimit: 1\n",
    "EOF\"\"\" % (job_name,\n",
    "          container_name,\n",
    "          container_image,\n",
    "          container_command,\n",
    "          container__mem_limit,\n",
    "          container__cpu_limit,\n",
    "          container__mem_request,\n",
    "          container__cpu_request)\n",
    "!$cmd\n",
    "\n",
    "podnamecmd = \"kubectl get pods --no-headers --selector=job-name=%s | awk '{print $1}'\" % (job_name)\n",
    "podname = !$podnamecmd\n",
    "podname = podname[0]\n",
    "print(podname)\n",
    "\n",
    "podlogcmd = \"kubectl logs %s\" % (podname)\n",
    "!$podlogcmd\n",
    "delete_all_jobs()"
   ]
  },
  {
   "cell_type": "code",
   "execution_count": null,
   "metadata": {},
   "outputs": [],
   "source": []
  }
 ],
 "metadata": {
  "kernelspec": {
   "display_name": "Python 3",
   "language": "python",
   "name": "python3"
  },
  "language_info": {
   "codemirror_mode": {
    "name": "ipython",
    "version": 3
   },
   "file_extension": ".py",
   "mimetype": "text/x-python",
   "name": "python",
   "nbconvert_exporter": "python",
   "pygments_lexer": "ipython3",
   "version": "3.8.3"
  }
 },
 "nbformat": 4,
 "nbformat_minor": 4
}
