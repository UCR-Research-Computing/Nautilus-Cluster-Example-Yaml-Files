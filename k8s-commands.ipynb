{
 "cells": [
  {
   "cell_type": "code",
   "execution_count": 44,
   "metadata": {
    "scrolled": true
   },
   "outputs": [
    {
     "name": "stdout",
     "output_type": "stream",
     "text": [
      "NAME          READY   STATUS      RESTARTS   AGE\n",
      "blast-8hnsf   0/1     Completed   0          2m16s\n",
      "centos        1/1     Running     0          2m4s\n"
     ]
    }
   ],
   "source": [
    "!kubectl get pod"
   ]
  },
  {
   "cell_type": "code",
   "execution_count": 40,
   "metadata": {},
   "outputs": [
    {
     "name": "stdout",
     "output_type": "stream",
     "text": [
      "NAME          READY   STATUS              RESTARTS   AGE   IP               NODE                       NOMINATED NODE   READINESS GATES\n",
      "blast-8hnsf   1/1     Running             0          39s   10.244.145.202   nrp-c14.nysernet.org       <none>           <none>\n",
      "centos        0/1     ContainerCreating   0          27s   <none>           fiona.cac.washington.edu   <none>           <none>\n"
     ]
    }
   ],
   "source": [
    "!kubectl get pod -o wide"
   ]
  },
  {
   "cell_type": "code",
   "execution_count": null,
   "metadata": {},
   "outputs": [],
   "source": [
    "!kubectl get job"
   ]
  },
  {
   "cell_type": "code",
   "execution_count": null,
   "metadata": {},
   "outputs": [],
   "source": [
    "!kubectl get job -o wide"
   ]
  },
  {
   "cell_type": "code",
   "execution_count": 38,
   "metadata": {},
   "outputs": [
    {
     "name": "stdout",
     "output_type": "stream",
     "text": [
      "pod/centos created\n"
     ]
    }
   ],
   "source": [
    "!kubectl create -f centos.yaml"
   ]
  },
  {
   "cell_type": "code",
   "execution_count": 37,
   "metadata": {},
   "outputs": [
    {
     "name": "stdout",
     "output_type": "stream",
     "text": [
      "job.batch/blast created\n"
     ]
    }
   ],
   "source": [
    "!kubectl create -f blast/blast.yaml"
   ]
  },
  {
   "cell_type": "code",
   "execution_count": 43,
   "metadata": {},
   "outputs": [
    {
     "name": "stdout",
     "output_type": "stream",
     "text": [
      "total 12K\n",
      "drwxrwxrwx 2 root root    1 Oct 30 05:54 .\n",
      "-rw-r--r-- 1 1000 users 12K Oct 30 05:54 blast-8hnsf-job-output.tar.gz\n",
      "drwxr-xr-x 1 root root   34 Oct 30 05:54 ..\n"
     ]
    }
   ],
   "source": [
    "!kubectl exec -it centos -- sh -c \"ls -latrh /sharedvol\""
   ]
  },
  {
   "cell_type": "code",
   "execution_count": 45,
   "metadata": {},
   "outputs": [],
   "source": [
    "!kubectl exec -it centos -- sh -c \"rm -rf /sharedvol/*\""
   ]
  },
  {
   "cell_type": "code",
   "execution_count": null,
   "metadata": {},
   "outputs": [
    {
     "name": "stdout",
     "output_type": "stream",
     "text": [
      "pod \"blast-8hnsf\" deleted\n",
      "pod \"centos\" deleted\n"
     ]
    }
   ],
   "source": [
    "!kubectl delete pod --all"
   ]
  },
  {
   "cell_type": "code",
   "execution_count": null,
   "metadata": {},
   "outputs": [],
   "source": [
    "!kubectl delete job --all"
   ]
  },
  {
   "cell_type": "code",
   "execution_count": null,
   "metadata": {},
   "outputs": [],
   "source": []
  }
 ],
 "metadata": {
  "kernelspec": {
   "display_name": "Python 3",
   "language": "python",
   "name": "python3"
  },
  "language_info": {
   "codemirror_mode": {
    "name": "ipython",
    "version": 3
   },
   "file_extension": ".py",
   "mimetype": "text/x-python",
   "name": "python",
   "nbconvert_exporter": "python",
   "pygments_lexer": "ipython3",
   "version": "3.8.3"
  }
 },
 "nbformat": 4,
 "nbformat_minor": 4
}
